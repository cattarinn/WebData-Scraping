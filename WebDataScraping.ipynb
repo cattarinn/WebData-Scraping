{
 "cells": [
  {
   "cell_type": "markdown",
   "id": "2d48fca7",
   "metadata": {},
   "source": [
    "### Wikipedia Dataset (List of Disney films)"
   ]
  },
  {
   "cell_type": "code",
   "execution_count": 1,
   "id": "d56f7d38",
   "metadata": {},
   "outputs": [],
   "source": [
    "from bs4 import BeautifulSoup as bs\n",
    "import requests\n",
    "from urllib.parse import urljoin"
   ]
  },
  {
   "cell_type": "markdown",
   "id": "b8b86744",
   "metadata": {},
   "source": [
    "#### 1. Extracting"
   ]
  },
  {
   "cell_type": "code",
   "execution_count": 45,
   "id": "32ccc788",
   "metadata": {},
   "outputs": [],
   "source": [
    "r = requests.get('https://en.wikipedia.org/wiki/Alice_in_Wonderland_(1951_film)')\n",
    "\n",
    "soup = bs(r.content)\n",
    "\n",
    "contents = soup.prettify()"
   ]
  },
  {
   "cell_type": "code",
   "execution_count": 48,
   "id": "3d37151d",
   "metadata": {},
   "outputs": [],
   "source": [
    "infobox = soup.find(class_='infobox vevent')\n",
    "#print(infobox.prettify())"
   ]
  },
  {
   "cell_type": "markdown",
   "id": "aa2c008f",
   "metadata": {},
   "source": [
    "#### Extract relevat information for one movie (followed by <tr</tr>> etc.)"
   ]
  },
  {
   "cell_type": "code",
   "execution_count": 47,
   "id": "4b595255",
   "metadata": {},
   "outputs": [],
   "source": [
    "rows = infobox.find_all('tr')\n",
    "#for row in rows:\n",
    "   # print(row.prettify())"
   ]
  },
  {
   "cell_type": "markdown",
   "id": "a78139b3",
   "metadata": {},
   "source": [
    "#### Clean up the data for the movie"
   ]
  },
  {
   "cell_type": "code",
   "execution_count": 5,
   "id": "f5ea08dc",
   "metadata": {
    "scrolled": true
   },
   "outputs": [
    {
     "name": "stdout",
     "output_type": "stream",
     "text": [
      "{'Title': 'Alice in Wonderland', 'Directed by': ['Clyde Geronimi', 'Wilfred Jackson', 'Hamilton Luske'], 'Story by': ['Winston Hibler', 'Ted Sears', 'Bill Peet', 'Erdman Penner', 'Joe Rinaldi', 'Milt Banta', 'Bill Cottrell', 'Dick Kelsey', 'Joe Grant', 'Dick Huemer', 'Del Connell', 'Tom Oreb', 'John Walbridge'], 'Based on': \"Alice's Adventures in WonderlandandThrough the Looking-GlassbyLewis Carroll\", 'Produced by': 'Walt DisneyBen Sharpsteen', 'Starring': ['Kathryn Beaumont', 'Ed Wynn', 'Richard Haydn', 'Sterling Holloway', 'Jerry Colonna', 'Verna Felton', \"J. Pat O'Malley\", 'Bill Thompson', 'Heather Angel'], 'Edited by': 'Lloyd Richardson', 'Music by': 'Oliver Wallace', 'Productioncompany': 'Walt Disney Productions', 'Distributed by': 'RKO Radio Pictures', 'Release dates': ['July26,1951(1951-07-26)(London)[1]', 'July28,1951(1951-07-28)(New York City)[1]', 'September14,1951(1951-09-14)(United States)'], 'Running time': '75 minutes[2]', 'Country': 'United States', 'Language': 'English', 'Budget': '$3 million[3]', 'Box office': ['$2.4 million (1951, domestic)', '$3.5 million (1974, domestic)']}\n"
     ]
    }
   ],
   "source": [
    "movie_info = {}\n",
    "\n",
    "def get_content_value(row_data):\n",
    "    if row_data.find('li'):\n",
    "        return[li.get_text('', strip=True).replace('\\xa0','') for li in row_data.find_all('li')]\n",
    "    else:\n",
    "        return row_data.get_text('', strip=True).replace('\\xa0', '')\n",
    "    \n",
    "for i, row in enumerate(rows):\n",
    "    if i == 0:\n",
    "        movie_info['Title'] = row.find('th').get_text()\n",
    "    elif i == 1:\n",
    "        continue\n",
    "    else:\n",
    "        k = row.find('th').get_text('', strip=True)\n",
    "        kv = get_content_value(row.find('td'))\n",
    "        #kv = row.find('td').get_text()\n",
    "        movie_info[k] = kv\n",
    "print(movie_info)\n"
   ]
  },
  {
   "cell_type": "markdown",
   "id": "b76e0f0c",
   "metadata": {},
   "source": [
    "#### 2. Collect data for all movies"
   ]
  },
  {
   "cell_type": "code",
   "execution_count": 46,
   "id": "18631f76",
   "metadata": {
    "scrolled": true
   },
   "outputs": [],
   "source": [
    "r = requests.get('https://en.wikipedia.org/wiki/List_of_Walt_Disney_Pictures_films')\n",
    "\n",
    "soup = bs(r.content)\n",
    "\n",
    "contents = soup.prettify()"
   ]
  },
  {
   "cell_type": "code",
   "execution_count": 13,
   "id": "fe634d94",
   "metadata": {},
   "outputs": [
    {
     "data": {
      "text/plain": [
       "[<i><a href=\"/wiki/Snow_White_and_the_Seven_Dwarfs_(1937_film)\" title=\"Snow White and the Seven Dwarfs (1937 film)\">Snow White and the Seven Dwarfs</a></i>,\n",
       " <i><a href=\"/wiki/Pinocchio_(1940_film)\" title=\"Pinocchio (1940 film)\">Pinocchio</a></i>,\n",
       " <i><a href=\"/wiki/Fantasia_(1940_film)\" title=\"Fantasia (1940 film)\">Fantasia</a></i>,\n",
       " <i><a href=\"/wiki/The_Reluctant_Dragon_(1941_film)\" title=\"The Reluctant Dragon (1941 film)\">The Reluctant Dragon</a></i>,\n",
       " <i><a href=\"/wiki/Dumbo\" title=\"Dumbo\">Dumbo</a></i>,\n",
       " <i><a href=\"/wiki/Bambi\" title=\"Bambi\">Bambi</a></i>,\n",
       " <i><a href=\"/wiki/Saludos_Amigos\" title=\"Saludos Amigos\">Saludos Amigos</a></i>,\n",
       " <i><a href=\"/wiki/Victory_Through_Air_Power_(film)\" title=\"Victory Through Air Power (film)\">Victory Through Air Power</a></i>,\n",
       " <i><a href=\"/wiki/The_Three_Caballeros\" title=\"The Three Caballeros\">The Three Caballeros</a></i>,\n",
       " <i><a href=\"/wiki/Make_Mine_Music\" title=\"Make Mine Music\">Make Mine Music</a></i>]"
      ]
     },
     "execution_count": 13,
     "metadata": {},
     "output_type": "execute_result"
    }
   ],
   "source": [
    "movies = soup.select('.wikitable.sortable i')\n",
    "movies[0:10]"
   ]
  },
  {
   "cell_type": "code",
   "execution_count": 37,
   "id": "95ded9ac",
   "metadata": {},
   "outputs": [],
   "source": [
    "def get_content_value(row_data):\n",
    "    if row_data.find('li'):\n",
    "        return[li.get_text(' ', strip=True).replace('\\xa0','') for li in row_data.find_all('li')]\n",
    "    elif row_data.find('br'):\n",
    "        return [text for text in soup.stripped_strings]\n",
    "    else:\n",
    "        return row_data.get_text(' ', strip=True).replace('\\xa0', '')\n",
    "    \n",
    "def clean_tags(soup):\n",
    "    for tag in soup.find_all(['sup', 'span']):\n",
    "        tag.decompose()\n",
    "        \n",
    "def get_info_box(url):\n",
    "    \n",
    "    r = requests.get(url)\n",
    "    soup = bs(r.content)\n",
    "    infobox = soup.find(class_='infobox vevent')\n",
    "    rows = infobox.find_all('tr')\n",
    "    \n",
    "    clean_tags(soup)\n",
    "    \n",
    "    movie_info = {}\n",
    "    for index, row in enumerate(rows):\n",
    "        if index == 0:\n",
    "            movie_info['Title'] = row.find('th').get_text(' ', strip=True)\n",
    "        else:\n",
    "            header = row.find('th')\n",
    "            if header:\n",
    "                k = row.find('th').get_text(' ', strip=True)\n",
    "                kv = get_content_value(row.find('td'))\n",
    "                #kv = row.find('td').get_text()\n",
    "                movie_info[k] = kv\n",
    "    return(movie_info)"
   ]
  },
  {
   "cell_type": "code",
   "execution_count": null,
   "id": "c653d6bb",
   "metadata": {
    "scrolled": true
   },
   "outputs": [
    {
     "name": "stdout",
     "output_type": "stream",
     "text": [
      "Zorro the Avenger\n",
      "'NoneType' object has no attribute 'find'\n",
      "The Sign of Zorro\n",
      "'NoneType' object has no attribute 'find'\n",
      "Mighty Ducks the Movie: The First Face-Off\n",
      "'NoneType' object has no attribute 'find'\n",
      "Spirited Away\n",
      "'NoneType' object has no attribute 'find'\n",
      "Howl's Moving Castle\n",
      "'NoneType' object has no attribute 'find'\n",
      "Ponyo\n",
      "'NoneType' object has no attribute 'find'\n",
      "Tales from Earthsea\n",
      "'NoneType' object has no attribute 'find'\n"
     ]
    }
   ],
   "source": [
    "r = requests.get('https://en.wikipedia.org/wiki/List_of_Walt_Disney_Pictures_films')\n",
    "soup = bs(r.content)\n",
    "movies = soup.select('.wikitable.sortable i a')\n",
    "\n",
    "base_path = 'https://en.wikipedia.org/'\n",
    "\n",
    "movies_list = []\n",
    "for i, movie in enumerate(movies):\n",
    "    #if i == 5:\n",
    "       # break\n",
    "    try:\n",
    "        pathh = movie['href']\n",
    "        full_path = urljoin(base_path, pathh)\n",
    "        title = movie['title']\n",
    "        \n",
    "        movies_list.append(get_info_box(full_path))\n",
    "        \n",
    "    except Exception as e:\n",
    "        print(movie.get_text())\n",
    "        print (e)"
   ]
  },
  {
   "cell_type": "code",
   "execution_count": null,
   "id": "12d2ea96",
   "metadata": {},
   "outputs": [],
   "source": [
    "movies_list"
   ]
  },
  {
   "cell_type": "code",
   "execution_count": 42,
   "id": "d6dba863",
   "metadata": {},
   "outputs": [
    {
     "data": {
      "text/plain": [
       "541"
      ]
     },
     "execution_count": 42,
     "metadata": {},
     "output_type": "execute_result"
    }
   ],
   "source": [
    "len(movies_list)"
   ]
  },
  {
   "cell_type": "markdown",
   "id": "e789aff4",
   "metadata": {},
   "source": [
    "#### Save Data"
   ]
  },
  {
   "cell_type": "code",
   "execution_count": 43,
   "id": "98bc4a80",
   "metadata": {},
   "outputs": [],
   "source": [
    "import json\n",
    "\n",
    "def save_data(title, data):\n",
    "    with open(title, 'w', encoding='utf-8') as f:\n",
    "        json.dump(data, f, ensure_ascii=False, indent=2)"
   ]
  },
  {
   "cell_type": "code",
   "execution_count": 24,
   "id": "4ef0ad33",
   "metadata": {},
   "outputs": [],
   "source": [
    "def load_data(title):\n",
    "    with open (title, encoding='utf-8') as f:\n",
    "        return json.load(f)"
   ]
  },
  {
   "cell_type": "code",
   "execution_count": 44,
   "id": "b4ec30b4",
   "metadata": {},
   "outputs": [],
   "source": [
    "save_data('disney_data.json', movies_list)"
   ]
  }
 ],
 "metadata": {
  "kernelspec": {
   "display_name": "Python 3 (ipykernel)",
   "language": "python",
   "name": "python3"
  },
  "language_info": {
   "codemirror_mode": {
    "name": "ipython",
    "version": 3
   },
   "file_extension": ".py",
   "mimetype": "text/x-python",
   "name": "python",
   "nbconvert_exporter": "python",
   "pygments_lexer": "ipython3",
   "version": "3.11.3"
  }
 },
 "nbformat": 4,
 "nbformat_minor": 5
}
